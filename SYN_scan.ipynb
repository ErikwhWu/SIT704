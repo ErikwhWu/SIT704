{
  "nbformat": 4,
  "nbformat_minor": 0,
  "metadata": {
    "colab": {
      "name": "Untitled6.ipynb",
      "provenance": [],
      "collapsed_sections": [],
      "authorship_tag": "ABX9TyOtb4ji9cFo0wZOALXqAqGR",
      "include_colab_link": true
    },
    "kernelspec": {
      "name": "python3",
      "display_name": "Python 3"
    },
    "language_info": {
      "name": "python"
    }
  },
  "cells": [
    {
      "cell_type": "markdown",
      "metadata": {
        "id": "view-in-github",
        "colab_type": "text"
      },
      "source": [
        "<a href=\"https://colab.research.google.com/github/ErikwhWu/SIT704/blob/main/SYN_scan.ipynb\" target=\"_parent\"><img src=\"https://colab.research.google.com/assets/colab-badge.svg\" alt=\"Open In Colab\"/></a>"
      ]
    },
    {
      "cell_type": "code",
      "source": [
        "! apt-get -q -y install python3-scapy    # install scapy\n"
      ],
      "metadata": {
        "id": "LGhsFLDAjr8V"
      },
      "execution_count": null,
      "outputs": []
    },
    {
      "cell_type": "code",
      "source": [
        "import time\n",
        "import logging\n",
        "logging.getLogger(\"scapy.runtime\").setLevel(logging.ERROR) # Disable the annoying No Route found warning !\n",
        "from scapy.all import *\n",
        "ip = \"192.168.1.112\"\n",
        "\n",
        "def is_up(ip):\n",
        "    \"\"\" Tests if host is up \"\"\"\n",
        "    icmp = IP(dst=ip)/ICMP()\n",
        "    resp = sr1(icmp, timeout=0.5)\n",
        "    if resp == None:\n",
        "        return False\n",
        "    else:\n",
        "        return True\n",
        "\n",
        "def reset_half_open(ip, ports):\n",
        "    # Reset the connection to stop half-open connections from pooling up\n",
        "    sr(IP(dst=ip)/TCP(dport=ports, flags='AR'), timeout=1)\n",
        "\n",
        "def is_open(ip, ports, timeout=0.2):\n",
        "    results = {port:None for port in ports}\n",
        "    to_reset = []\n",
        "    p = IP(dst=ip)/TCP(dport=ports, flags='S')  # Forging SYN packet\n",
        "    answers, un_answered = sr(p, timeout=timeout)  # Send the packets\n",
        "    for req, resp in answers:\n",
        "        if not resp.haslayer(TCP):\n",
        "            continue\n",
        "        tcp_layer = resp.getlayer(TCP)\n",
        "        if tcp_layer.flags == 0x12:\n",
        "            to_reset.append(tcp_layer.sport)\n",
        "            results[tcp_layer.sport] = True\n",
        "        elif tcp_layer.flags == 0x14:\n",
        "            results[tcp_layer.sport] = False\n",
        "\n",
        "    # Bulk reset ports\n",
        "    reset_half_open(ip, to_reset)\n",
        "    return results\n",
        "\n",
        "def chunks(l, n):\n",
        "    \"\"\"Yield successive n-sized chunks from l.\"\"\"\n",
        "    for i in range(0, len(l), n):\n",
        "        yield l[i:i + n]\n",
        "\n",
        "if __name__ == '__main__':\n",
        "    conf.verb = 0 # Disable verbose in sr(), sr1() methods\n",
        "    start_time = time.time()\n",
        "    if is_up(ip):\n",
        "        print(\"Host %s is up, start scanning\" % ip)\n",
        "        for ports in chunks(range(1, 1024), 100):\n",
        "            results = is_open(ip, ports)\n",
        "            for p, r in results.items():\n",
        "                print(p, ':', r)\n",
        "        duration = time.time()-start_time\n",
        "        print(\"%s Scan Completed in %fs\" % (ip, duration))\n",
        "    else:\n",
        "        print(\"Host %s is Down\" % ip)"
      ],
      "metadata": {
        "colab": {
          "base_uri": "https://localhost:8080/"
        },
        "id": "9MFJ73pWh--u",
        "outputId": "87612573-e0a7-40a7-8b05-7967176a498b"
      },
      "execution_count": 11,
      "outputs": [
        {
          "output_type": "stream",
          "name": "stdout",
          "text": [
            "Host 192.168.1.112 is Down\n"
          ]
        }
      ]
    }
  ]
}