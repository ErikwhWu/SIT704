{
  "nbformat": 4,
  "nbformat_minor": 0,
  "metadata": {
    "colab": {
      "name": "Untitled1.ipynb",
      "provenance": [],
      "authorship_tag": "ABX9TyPwDYr8gJwvXm82LOCYg/KV",
      "include_colab_link": true
    },
    "kernelspec": {
      "name": "python3",
      "display_name": "Python 3"
    },
    "language_info": {
      "name": "python"
    }
  },
  "cells": [
    {
      "cell_type": "markdown",
      "metadata": {
        "id": "view-in-github",
        "colab_type": "text"
      },
      "source": [
        "<a href=\"https://colab.research.google.com/github/ErikwhWu/SIT704/blob/main/ARP_attack_detection.ipynb\" target=\"_parent\"><img src=\"https://colab.research.google.com/assets/colab-badge.svg\" alt=\"Open In Colab\"/></a>"
      ]
    },
    {
      "cell_type": "code",
      "execution_count": 18,
      "metadata": {
        "colab": {
          "base_uri": "https://localhost:8080/",
          "height": 174
        },
        "id": "uWCHrd8Qdp1T",
        "outputId": "d4fc05ce-312b-4a96-f081-7e6fdad1dd2c"
      },
      "outputs": [
        {
          "output_type": "stream",
          "name": "stdout",
          "text": [
            "Reading package lists...\n",
            "Building dependency tree...\n",
            "Reading state information...\n",
            "python3-scapy is already the newest version (0.23-1).\n",
            "The following package was automatically installed and is no longer required:\n",
            "  libnvidia-common-460\n",
            "Use 'apt autoremove' to remove it.\n",
            "0 upgraded, 0 newly installed, 0 to remove and 49 not upgraded.\n"
          ]
        },
        {
          "output_type": "execute_result",
          "data": {
            "text/plain": [
              "'eth0'"
            ],
            "application/vnd.google.colaboratory.intrinsic+json": {
              "type": "string"
            }
          },
          "metadata": {},
          "execution_count": 18
        }
      ],
      "source": [
        "! apt-get -q -y install python3-scapy    # install scapy\n",
        "from scapy.all import *                  # import libraries from scapy\n",
        "\n",
        "#Use this code to check the interface that wants to sniff\n",
        "conf.iface"
      ]
    },
    {
      "cell_type": "code",
      "source": [
        "def get_mac(ip):\n",
        "    \"\"\"\n",
        "    Returns the MAC address of `ip`, if it is unable to find it\n",
        "    for some reason, throws `IndexError`\n",
        "    \"\"\"\n",
        "    p = Ether(dst='ff:ff:ff:ff:ff:ff')/ARP(pdst=ip)\n",
        "    result = srp(p, timeout=3, verbose=False)[0]\n",
        "    return result[0][1].hwsrc"
      ],
      "metadata": {
        "id": "r9YPuHSgdq12"
      },
      "execution_count": 19,
      "outputs": []
    },
    {
      "cell_type": "code",
      "source": [
        "def process(packet):\n",
        "    # if the packet is an ARP packet\n",
        "    if packet.haslayer(ARP):\n",
        "        # if it is an ARP response (ARP reply)\n",
        "        if packet[ARP].op == 2:\n",
        "            try:\n",
        "                # get the real MAC address of the sender\n",
        "                real_mac = get_mac(packet[ARP].psrc)\n",
        "                # get the MAC address from the packet sent to us\n",
        "                response_mac = packet[ARP].hwsrc\n",
        "                # if they're different, definitely there is an attack\n",
        "                if real_mac != response_mac:\n",
        "                    print(f\"[!] You are under attack, REAL-MAC: {real_mac.upper()}, FAKE-MAC: {response_mac.upper()}\")\n",
        "            except IndexError:\n",
        "                # unable to find the real mac\n",
        "                # may be a fake IP or firewall is blocking packets\n",
        "                pass"
      ],
      "metadata": {
        "id": "-pXo_MKpgr7S"
      },
      "execution_count": 20,
      "outputs": []
    },
    {
      "cell_type": "code",
      "source": [
        "sniff(store=False, prn=process)"
      ],
      "metadata": {
        "colab": {
          "base_uri": "https://localhost:8080/"
        },
        "id": "IloDOqmCgye3",
        "outputId": "743f5558-1632-428d-f4e1-44dfbdd2c403"
      },
      "execution_count": 21,
      "outputs": [
        {
          "output_type": "execute_result",
          "data": {
            "text/plain": [
              "<Sniffed: TCP:0 UDP:0 ICMP:0 Other:0>"
            ]
          },
          "metadata": {},
          "execution_count": 21
        }
      ]
    }
  ]
}